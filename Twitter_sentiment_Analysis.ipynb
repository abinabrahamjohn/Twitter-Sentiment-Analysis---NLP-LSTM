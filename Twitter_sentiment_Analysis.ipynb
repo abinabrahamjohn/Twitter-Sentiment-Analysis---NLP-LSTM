{
  "nbformat": 4,
  "nbformat_minor": 0,
  "metadata": {
    "colab": {
      "name": "Twitter sentiment Analysis.ipynb",
      "provenance": []
    },
    "kernelspec": {
      "name": "python3",
      "display_name": "Python 3"
    }
  },
  "cells": [
    {
      "cell_type": "code",
      "metadata": {
        "id": "J-EqOnGfEFbd",
        "colab_type": "code",
        "colab": {}
      },
      "source": [
        "try:\n",
        "  # %tensorflow_version only exists in Colab.\n",
        "  %tensorflow_version 2.x\n",
        "except Exception:\n",
        "  pass"
      ],
      "execution_count": 0,
      "outputs": []
    },
    {
      "cell_type": "code",
      "metadata": {
        "id": "BwiTLgJgEUYe",
        "colab_type": "code",
        "colab": {
          "base_uri": "https://localhost:8080/",
          "height": 52
        },
        "outputId": "dc96f5ac-9442-4106-817d-0f0f5e8be83d"
      },
      "source": [
        "# TensorFlow and tf.keras\n",
        "import tensorflow as tf\n",
        "from tensorflow import keras\n",
        "\n",
        "# Import numpy, Pandas, Regex & Visualisation libraries\n",
        "import numpy as np\n",
        "import pandas as pd\n",
        "import re\n",
        "from matplotlib import pyplot as plt\n",
        "\n",
        "# Import NLTK & Download Required Module\n",
        "import nltk\n",
        "nltk.download('punkt')\n",
        "\n",
        "# Train Test Split\n",
        "from sklearn.model_selection import train_test_split\n",
        "\n",
        "# F1 Score\n",
        "from sklearn.metrics import f1_score"
      ],
      "execution_count": 2,
      "outputs": [
        {
          "output_type": "stream",
          "text": [
            "[nltk_data] Downloading package punkt to /root/nltk_data...\n",
            "[nltk_data]   Unzipping tokenizers/punkt.zip.\n"
          ],
          "name": "stdout"
        }
      ]
    },
    {
      "cell_type": "code",
      "metadata": {
        "id": "Xj0rOSptEivO",
        "colab_type": "code",
        "colab": {}
      },
      "source": [
        "tweets = pd.read_csv('/content/train_E6oV3lV.csv')"
      ],
      "execution_count": 0,
      "outputs": []
    },
    {
      "cell_type": "code",
      "metadata": {
        "id": "ta3CfsLMExUO",
        "colab_type": "code",
        "colab": {}
      },
      "source": [
        "X = tweets.iloc[:, 2].values\n",
        "y = tweets.iloc[:,1].values"
      ],
      "execution_count": 0,
      "outputs": []
    },
    {
      "cell_type": "code",
      "metadata": {
        "id": "ehnDcvHEE0zf",
        "colab_type": "code",
        "colab": {}
      },
      "source": [
        "def clean_corpus(text):\n",
        "    corpus = []\n",
        "    for i in range(len(text)):\n",
        "        tweet = re.sub(r\"^https://t.co/[a-zA-Z0-9]*\\s\",\" \", str(text[i]))\n",
        "        tweet = re.sub(r\"\\s+https://t.co/[a-zA-Z0-9]*\\s\",\" \", tweet)\n",
        "        tweet = re.sub(r\"\\s+https://t.co/[a-zA-Z0-9]*$\",\" \", tweet)\n",
        "        tweet = tweet.lower()\n",
        "        tweet = re.sub(r\"can't\",\"can not\", tweet)\n",
        "        tweet = re.sub(r\"hv\",\"have\", tweet)\n",
        "        tweet = re.sub(r\"ur\",\"your\", tweet)\n",
        "        tweet = re.sub(r\"ain't\",\"is not\", tweet)\n",
        "        tweet = re.sub(r\"don't\",\"do not\", tweet)\n",
        "        tweet = re.sub(r\"couldn't\",\"could not\", tweet)\n",
        "        tweet = re.sub(r\"shouldn't\",\"should not\", tweet )\n",
        "        tweet = re.sub(r\"won't\",\"will not\", tweet)\n",
        "        tweet = re.sub(r\"there's\", \"there is\", tweet)\n",
        "        tweet = re.sub(r\"it's\",\"it is\", tweet)\n",
        "        tweet = re.sub(r\"that's\",\"that is\", tweet)\n",
        "        tweet = re.sub(r\"where's\",\"where is\", tweet)\n",
        "        tweet = re.sub(r\"who's\",\"who is\", tweet)\n",
        "        tweet = re.sub(r\"\\W\",\" \", tweet)\n",
        "        tweet = re.sub(r\"\\d\",\" \", tweet)\n",
        "        tweet = re.sub(r\"[ðâï¼½³ªãºæååçæåä¹µó¾_ëìêè]\",\" \", tweet)\n",
        "        tweet =re.sub(r\"\\s[a-z]\\s\",\" \", tweet)\n",
        "        tweet = re.sub(r\"\\s+[a-z]\\s+\",\" \", tweet)\n",
        "        tweet = re.sub(r\"^[a-z]\\s\",\" \", tweet)\n",
        "        tweet = re.sub(r\"^[a-z]\\s+\",\" \", tweet)\n",
        "        tweet = re.sub(r\"\\s+\",\" \", tweet)\n",
        "        tweet = re.sub(r\"^\\s\",\"\", tweet)\n",
        "        tweet = re.sub(r\"\\s$\",\"\", tweet)\n",
        "        corpus.append(tweet)\n",
        "        \n",
        "    #return the corpus\n",
        "    return corpus"
      ],
      "execution_count": 0,
      "outputs": []
    },
    {
      "cell_type": "code",
      "metadata": {
        "id": "AStwtZX2E4sn",
        "colab_type": "code",
        "colab": {}
      },
      "source": [
        "#check how many individual words present in the corpus\n",
        "word_dict = {}\n",
        "train_data = tweets['tweet']\n",
        "corpus  = clean_corpus(train_data)\n",
        "\n",
        "for doc in corpus:\n",
        "    words = nltk.word_tokenize(doc)\n",
        "    for word in words:\n",
        "        if word not in word_dict:\n",
        "            word_dict[word] = 1\n",
        "        else:\n",
        "            word_dict[word] += 1\n",
        "            \n",
        "len(word_dict)\n",
        "\n",
        "#tokenising the texts\n",
        "tokenizer = keras.preprocessing.text.Tokenizer()\n",
        "tokenizer.fit_on_texts(corpus)\n",
        "corpus_tokens = tokenizer.texts_to_sequences(corpus)"
      ],
      "execution_count": 0,
      "outputs": []
    },
    {
      "cell_type": "code",
      "metadata": {
        "id": "gT2DNjxJE70l",
        "colab_type": "code",
        "colab": {
          "base_uri": "https://localhost:8080/",
          "height": 89
        },
        "outputId": "78375426-a022-4fab-c211-97fe5a3d2957"
      },
      "source": [
        "#finding the average words present per comment\n",
        "print(corpus[0])\n",
        "print(corpus_tokens[0:2])\n",
        "\n",
        "num_of_words_in_doc =[]\n",
        "for doc in corpus_tokens:\n",
        "    num_of_words_in_doc.append(len(doc))\n",
        "print(\"Average number of words: \", np.average(num_of_words_in_doc))\n",
        "\n",
        "\n",
        "# Padding the sequences\n",
        "corpus_pad = keras.preprocessing.sequence.pad_sequences(corpus_tokens,maxlen=25,padding='post')"
      ],
      "execution_count": 8,
      "outputs": [
        {
          "output_type": "stream",
          "text": [
            "user when father is dysfunctional and is so selfish he drags his kids into his dysfunction run\n",
            "[[1, 35, 68, 5, 14946, 6, 5, 21, 2610, 70, 6257, 93, 244, 249, 93, 7643, 442], [1, 1, 161, 8, 5345, 2343, 32, 12, 426, 623, 60, 23, 12, 1481, 7644, 9812, 7, 7645, 14947, 9813]]\n",
            "Average number of words:  12.311182028659033\n"
          ],
          "name": "stdout"
        }
      ]
    },
    {
      "cell_type": "code",
      "metadata": {
        "id": "D-AxI5zSFIOh",
        "colab_type": "code",
        "colab": {
          "base_uri": "https://localhost:8080/",
          "height": 35
        },
        "outputId": "c792ef13-d9f7-46ce-9f1f-2e3740cf24be"
      },
      "source": [
        "\n",
        "# Creating Validation Set\n",
        "X_train,X_test,y_train,y_test = train_test_split(corpus_pad,y,test_size=0.2,random_state=101)\n",
        "\n",
        "X_train.shape, X_test.shape"
      ],
      "execution_count": 9,
      "outputs": [
        {
          "output_type": "execute_result",
          "data": {
            "text/plain": [
              "((25569, 25), (6393, 25))"
            ]
          },
          "metadata": {
            "tags": []
          },
          "execution_count": 9
        }
      ]
    },
    {
      "cell_type": "code",
      "metadata": {
        "id": "ojDooIrfFLRY",
        "colab_type": "code",
        "colab": {
          "base_uri": "https://localhost:8080/",
          "height": 277
        },
        "outputId": "c4bfb06f-5c40-4367-b227-2a5a4be70aae"
      },
      "source": [
        "# Building & Compiling the model\n",
        "\n",
        "vocab_size = len(tokenizer.word_index) + 1\n",
        "max_length = 25\n",
        "model = keras.Sequential()\n",
        "model.add(keras.layers.Embedding(input_dim=vocab_size,output_dim=50,input_length=max_length))\n",
        "model.add(keras.layers.LSTM(units=50,dropout=0.2,recurrent_dropout=0.2))\n",
        "model.add(keras.layers.Dense(units=1, activation='sigmoid'))\n",
        "\n",
        "# compile the model\n",
        "model.compile(optimizer='adam', loss='binary_crossentropy', metrics=['acc'])\n",
        "# summarize the model\n",
        "print(model.summary())"
      ],
      "execution_count": 10,
      "outputs": [
        {
          "output_type": "stream",
          "text": [
            "Model: \"sequential\"\n",
            "_________________________________________________________________\n",
            "Layer (type)                 Output Shape              Param #   \n",
            "=================================================================\n",
            "embedding (Embedding)        (None, 25, 50)            1879200   \n",
            "_________________________________________________________________\n",
            "lstm (LSTM)                  (None, 50)                20200     \n",
            "_________________________________________________________________\n",
            "dense (Dense)                (None, 1)                 51        \n",
            "=================================================================\n",
            "Total params: 1,899,451\n",
            "Trainable params: 1,899,451\n",
            "Non-trainable params: 0\n",
            "_________________________________________________________________\n",
            "None\n"
          ],
          "name": "stdout"
        }
      ]
    },
    {
      "cell_type": "code",
      "metadata": {
        "id": "bw0XhhYsFORf",
        "colab_type": "code",
        "colab": {
          "base_uri": "https://localhost:8080/",
          "height": 104
        },
        "outputId": "793fe43a-e067-4a90-b741-8299221b7680"
      },
      "source": [
        "# Train the model\n",
        "model.fit(X_train,y_train,batch_size=10,epochs=2, verbose=2)"
      ],
      "execution_count": 11,
      "outputs": [
        {
          "output_type": "stream",
          "text": [
            "Epoch 1/2\n",
            "2557/2557 - 103s - loss: 0.1566 - acc: 0.9501\n",
            "Epoch 2/2\n",
            "2557/2557 - 101s - loss: 0.0697 - acc: 0.9776\n"
          ],
          "name": "stdout"
        },
        {
          "output_type": "execute_result",
          "data": {
            "text/plain": [
              "<tensorflow.python.keras.callbacks.History at 0x7ff4fab6d390>"
            ]
          },
          "metadata": {
            "tags": []
          },
          "execution_count": 11
        }
      ]
    },
    {
      "cell_type": "code",
      "metadata": {
        "id": "MQ2m6ewzFRW1",
        "colab_type": "code",
        "colab": {}
      },
      "source": [
        "\n",
        "#Loading the test data\n",
        "test_tweets = pd.read_csv(\"test_tweets_anuFYb8.csv\")\n",
        "test_tweets.shape\n",
        "\n",
        "#cleaning the text\n",
        "test_data = test_tweets['tweet']\n",
        "clean_test_data  = clean_corpus(test_data)\n",
        "\n",
        "#text to sequence and padding\n",
        "clean_test_data_token = tokenizer.texts_to_sequences(clean_test_data)\n",
        "clean_test_data_pad = keras.preprocessing.sequence.pad_sequences(clean_test_data_token,maxlen=25,padding='post')"
      ],
      "execution_count": 0,
      "outputs": []
    },
    {
      "cell_type": "code",
      "metadata": {
        "id": "pma4W37sFTvj",
        "colab_type": "code",
        "colab": {
          "base_uri": "https://localhost:8080/",
          "height": 89
        },
        "outputId": "dec23c35-9177-4181-e34f-92a673be15f7"
      },
      "source": [
        "# preparing the submission file    \n",
        "final_prediction = model.predict_classes(clean_test_data_pad)\n",
        "\n",
        "test_tweets['label'] = final_prediction\n",
        "test_predictions = test_tweets[['id','label']]\n",
        "test_predictions.to_csv('LSTM3.csv',index=False)"
      ],
      "execution_count": 14,
      "outputs": [
        {
          "output_type": "stream",
          "text": [
            "WARNING:tensorflow:From <ipython-input-14-71be98cedbec>:1: Sequential.predict_classes (from tensorflow.python.keras.engine.sequential) is deprecated and will be removed after 2021-01-01.\n",
            "Instructions for updating:\n",
            "Please use instead:* `np.argmax(model.predict(x), axis=-1)`,   if your model does multi-class classification   (e.g. if it uses a `softmax` last-layer activation).* `(model.predict(x) > 0.5).astype(\"int32\")`,   if your model does binary classification   (e.g. if it uses a `sigmoid` last-layer activation).\n"
          ],
          "name": "stdout"
        }
      ]
    },
    {
      "cell_type": "code",
      "metadata": {
        "id": "NeFzJ5ivKoDb",
        "colab_type": "code",
        "colab": {
          "base_uri": "https://localhost:8080/",
          "height": 415
        },
        "outputId": "01fbd58b-ecc3-4657-c578-234c6b997ca4"
      },
      "source": [
        "test_predictions"
      ],
      "execution_count": 15,
      "outputs": [
        {
          "output_type": "execute_result",
          "data": {
            "text/html": [
              "<div>\n",
              "<style scoped>\n",
              "    .dataframe tbody tr th:only-of-type {\n",
              "        vertical-align: middle;\n",
              "    }\n",
              "\n",
              "    .dataframe tbody tr th {\n",
              "        vertical-align: top;\n",
              "    }\n",
              "\n",
              "    .dataframe thead th {\n",
              "        text-align: right;\n",
              "    }\n",
              "</style>\n",
              "<table border=\"1\" class=\"dataframe\">\n",
              "  <thead>\n",
              "    <tr style=\"text-align: right;\">\n",
              "      <th></th>\n",
              "      <th>id</th>\n",
              "      <th>label</th>\n",
              "    </tr>\n",
              "  </thead>\n",
              "  <tbody>\n",
              "    <tr>\n",
              "      <th>0</th>\n",
              "      <td>31963</td>\n",
              "      <td>0</td>\n",
              "    </tr>\n",
              "    <tr>\n",
              "      <th>1</th>\n",
              "      <td>31964</td>\n",
              "      <td>0</td>\n",
              "    </tr>\n",
              "    <tr>\n",
              "      <th>2</th>\n",
              "      <td>31965</td>\n",
              "      <td>0</td>\n",
              "    </tr>\n",
              "    <tr>\n",
              "      <th>3</th>\n",
              "      <td>31966</td>\n",
              "      <td>0</td>\n",
              "    </tr>\n",
              "    <tr>\n",
              "      <th>4</th>\n",
              "      <td>31967</td>\n",
              "      <td>0</td>\n",
              "    </tr>\n",
              "    <tr>\n",
              "      <th>...</th>\n",
              "      <td>...</td>\n",
              "      <td>...</td>\n",
              "    </tr>\n",
              "    <tr>\n",
              "      <th>17192</th>\n",
              "      <td>49155</td>\n",
              "      <td>1</td>\n",
              "    </tr>\n",
              "    <tr>\n",
              "      <th>17193</th>\n",
              "      <td>49156</td>\n",
              "      <td>0</td>\n",
              "    </tr>\n",
              "    <tr>\n",
              "      <th>17194</th>\n",
              "      <td>49157</td>\n",
              "      <td>0</td>\n",
              "    </tr>\n",
              "    <tr>\n",
              "      <th>17195</th>\n",
              "      <td>49158</td>\n",
              "      <td>0</td>\n",
              "    </tr>\n",
              "    <tr>\n",
              "      <th>17196</th>\n",
              "      <td>49159</td>\n",
              "      <td>0</td>\n",
              "    </tr>\n",
              "  </tbody>\n",
              "</table>\n",
              "<p>17197 rows × 2 columns</p>\n",
              "</div>"
            ],
            "text/plain": [
              "          id  label\n",
              "0      31963      0\n",
              "1      31964      0\n",
              "2      31965      0\n",
              "3      31966      0\n",
              "4      31967      0\n",
              "...      ...    ...\n",
              "17192  49155      1\n",
              "17193  49156      0\n",
              "17194  49157      0\n",
              "17195  49158      0\n",
              "17196  49159      0\n",
              "\n",
              "[17197 rows x 2 columns]"
            ]
          },
          "metadata": {
            "tags": []
          },
          "execution_count": 15
        }
      ]
    },
    {
      "cell_type": "code",
      "metadata": {
        "id": "QfmP9VhWKoag",
        "colab_type": "code",
        "colab": {}
      },
      "source": [
        ""
      ],
      "execution_count": 0,
      "outputs": []
    }
  ]
}